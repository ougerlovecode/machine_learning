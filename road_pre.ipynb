{
 "cells": [
  {
   "cell_type": "code",
   "execution_count": 1,
   "metadata": {},
   "outputs": [
    {
     "data": {
      "text/plain": [
       "False"
      ]
     },
     "execution_count": 1,
     "metadata": {},
     "output_type": "execute_result"
    }
   ],
   "source": [
    "import torch\n",
    "torch.cuda.is_available()"
   ]
  },
  {
   "cell_type": "code",
   "execution_count": 2,
   "metadata": {},
   "outputs": [],
   "source": [
    "# !python road_pre.py"
   ]
  },
  {
   "cell_type": "code",
   "execution_count": 68,
   "metadata": {},
   "outputs": [],
   "source": [
    "import pandas as pd\n",
    "import os\n",
    "x_train_path = r'data/HQZX/train/412333612.csv'\n",
    "s_data = pd.read_csv(x_train_path)\n",
    "    "
   ]
  },
  {
   "cell_type": "code",
   "execution_count": 69,
   "metadata": {},
   "outputs": [
    {
     "data": {
      "text/html": [
       "<div>\n",
       "<style scoped>\n",
       "    .dataframe tbody tr th:only-of-type {\n",
       "        vertical-align: middle;\n",
       "    }\n",
       "\n",
       "    .dataframe tbody tr th {\n",
       "        vertical-align: top;\n",
       "    }\n",
       "\n",
       "    .dataframe thead th {\n",
       "        text-align: right;\n",
       "    }\n",
       "</style>\n",
       "<table border=\"1\" class=\"dataframe\">\n",
       "  <thead>\n",
       "    <tr style=\"text-align: right;\">\n",
       "      <th></th>\n",
       "      <th>Unnamed: 0</th>\n",
       "      <th>信息类型</th>\n",
       "      <th>信息来源</th>\n",
       "      <th>目标时间</th>\n",
       "      <th>目标编号</th>\n",
       "      <th>纬度</th>\n",
       "      <th>经度</th>\n",
       "      <th>船舶类型</th>\n",
       "      <th>纬度2</th>\n",
       "      <th>经度2</th>\n",
       "      <th>目标时间2</th>\n",
       "      <th>间隔时间</th>\n",
       "      <th>间隔距离</th>\n",
       "      <th>临时速度</th>\n",
       "      <th>State</th>\n",
       "      <th>SegmentID</th>\n",
       "    </tr>\n",
       "  </thead>\n",
       "  <tbody>\n",
       "    <tr>\n",
       "      <th>0</th>\n",
       "      <td>0</td>\n",
       "      <td>7</td>\n",
       "      <td>3</td>\n",
       "      <td>1538321588</td>\n",
       "      <td>412333612</td>\n",
       "      <td>39.759457</td>\n",
       "      <td>124.145522</td>\n",
       "      <td>3</td>\n",
       "      <td>39.759457</td>\n",
       "      <td>124.145520</td>\n",
       "      <td>1.538322e+09</td>\n",
       "      <td>50.0</td>\n",
       "      <td>0.142821</td>\n",
       "      <td>0.002856</td>\n",
       "      <td>2</td>\n",
       "      <td>-1</td>\n",
       "    </tr>\n",
       "    <tr>\n",
       "      <th>1</th>\n",
       "      <td>1</td>\n",
       "      <td>7</td>\n",
       "      <td>3</td>\n",
       "      <td>1538321638</td>\n",
       "      <td>412333612</td>\n",
       "      <td>39.759457</td>\n",
       "      <td>124.145520</td>\n",
       "      <td>3</td>\n",
       "      <td>39.759458</td>\n",
       "      <td>124.145520</td>\n",
       "      <td>1.538322e+09</td>\n",
       "      <td>10.0</td>\n",
       "      <td>0.185050</td>\n",
       "      <td>0.018503</td>\n",
       "      <td>2</td>\n",
       "      <td>-1</td>\n",
       "    </tr>\n",
       "    <tr>\n",
       "      <th>2</th>\n",
       "      <td>2</td>\n",
       "      <td>7</td>\n",
       "      <td>3</td>\n",
       "      <td>1538321648</td>\n",
       "      <td>412333612</td>\n",
       "      <td>39.759458</td>\n",
       "      <td>124.145520</td>\n",
       "      <td>3</td>\n",
       "      <td>39.759458</td>\n",
       "      <td>124.145520</td>\n",
       "      <td>1.538322e+09</td>\n",
       "      <td>10.0</td>\n",
       "      <td>0.000000</td>\n",
       "      <td>0.000000</td>\n",
       "      <td>2</td>\n",
       "      <td>-1</td>\n",
       "    </tr>\n",
       "    <tr>\n",
       "      <th>3</th>\n",
       "      <td>3</td>\n",
       "      <td>7</td>\n",
       "      <td>3</td>\n",
       "      <td>1538321658</td>\n",
       "      <td>412333612</td>\n",
       "      <td>39.759458</td>\n",
       "      <td>124.145520</td>\n",
       "      <td>3</td>\n",
       "      <td>39.759503</td>\n",
       "      <td>124.145470</td>\n",
       "      <td>1.538322e+09</td>\n",
       "      <td>11.0</td>\n",
       "      <td>6.581916</td>\n",
       "      <td>0.598302</td>\n",
       "      <td>1</td>\n",
       "      <td>-1</td>\n",
       "    </tr>\n",
       "    <tr>\n",
       "      <th>4</th>\n",
       "      <td>4</td>\n",
       "      <td>7</td>\n",
       "      <td>3</td>\n",
       "      <td>1538321669</td>\n",
       "      <td>412333612</td>\n",
       "      <td>39.759503</td>\n",
       "      <td>124.145470</td>\n",
       "      <td>3</td>\n",
       "      <td>39.759458</td>\n",
       "      <td>124.145518</td>\n",
       "      <td>1.538322e+09</td>\n",
       "      <td>20.0</td>\n",
       "      <td>6.489849</td>\n",
       "      <td>0.324476</td>\n",
       "      <td>1</td>\n",
       "      <td>-1</td>\n",
       "    </tr>\n",
       "  </tbody>\n",
       "</table>\n",
       "</div>"
      ],
      "text/plain": [
       "   Unnamed: 0  信息类型  信息来源        目标时间       目标编号         纬度          经度  船舶类型  \\\n",
       "0           0     7     3  1538321588  412333612  39.759457  124.145522     3   \n",
       "1           1     7     3  1538321638  412333612  39.759457  124.145520     3   \n",
       "2           2     7     3  1538321648  412333612  39.759458  124.145520     3   \n",
       "3           3     7     3  1538321658  412333612  39.759458  124.145520     3   \n",
       "4           4     7     3  1538321669  412333612  39.759503  124.145470     3   \n",
       "\n",
       "         纬度2         经度2         目标时间2  间隔时间      间隔距离      临时速度  State  \\\n",
       "0  39.759457  124.145520  1.538322e+09  50.0  0.142821  0.002856      2   \n",
       "1  39.759458  124.145520  1.538322e+09  10.0  0.185050  0.018503      2   \n",
       "2  39.759458  124.145520  1.538322e+09  10.0  0.000000  0.000000      2   \n",
       "3  39.759503  124.145470  1.538322e+09  11.0  6.581916  0.598302      1   \n",
       "4  39.759458  124.145518  1.538322e+09  20.0  6.489849  0.324476      1   \n",
       "\n",
       "   SegmentID  \n",
       "0         -1  \n",
       "1         -1  \n",
       "2         -1  \n",
       "3         -1  \n",
       "4         -1  "
      ]
     },
     "execution_count": 69,
     "metadata": {},
     "output_type": "execute_result"
    }
   ],
   "source": [
    "s_data.head()"
   ]
  },
  {
   "cell_type": "code",
   "execution_count": 80,
   "metadata": {},
   "outputs": [],
   "source": [
    "def csv_add(new_csv,candidate_points):\n",
    "    if new_csv is None:\n",
    "        new_csv = candidate_points[0]\n",
    "        for point in candidate_points[1:]:\n",
    "            new_csv = pd.concat([new_csv,point])\n",
    "    else:\n",
    "        for point in candidate_points:\n",
    "            new_csv = pd.concat([new_csv,point])\n",
    "    return new_csv"
   ]
  },
  {
   "cell_type": "code",
   "execution_count": 81,
   "metadata": {},
   "outputs": [],
   "source": [
    "# 2 minute, 每6个点,或者10个点预测下一个点\n",
    "import os\n",
    "sentence_length = 6\n",
    "interval_time = 120\n",
    "error_seconds = 5\n",
    "def wash_data(csv):\n",
    "    flag = 0\n",
    "    no_ = 0 \n",
    "    candidate_points = []\n",
    "    seconds = 0.0\n",
    "    new_csv = None\n",
    "    name = str(s_data.loc[:,'目标编号'][0])\n",
    "    for i in range(len(s_data)):\n",
    "        point = s_data.loc[[i]]\n",
    "        no_ += 1\n",
    "        candidate_points.append(point)\n",
    "        seconds += float(point['间隔时间'])\n",
    "        if no_ == sentence_length:\n",
    "            if seconds >= interval_time - error_seconds \\\n",
    "                        and seconds <= interval_time + error_seconds:\n",
    "                new_csv = csv_add(new_csv,candidate_points)\n",
    "                no_ = no_ - 1\n",
    "                seconds = seconds - float(candidate_points[0]['间隔时间'])\n",
    "                candidate_points.remove(candidate_points[0])\n",
    "            else:\n",
    "                if new_csv is not None:\n",
    "                    path = os.path.join('./washed_data',name+'_'+str(i)+'.csv')\n",
    "                    new_csv.to_csv(path)\n",
    "                new_csv = None\n",
    "                no_ = 0 \n",
    "                candidate_points = []\n",
    "                seconds = 0.0\n",
    "                continue\n",
    "#     return new_csv"
   ]
  },
  {
   "cell_type": "code",
   "execution_count": null,
   "metadata": {},
   "outputs": [],
   "source": [
    "wash_data(s_data)"
   ]
  },
  {
   "cell_type": "code",
   "execution_count": 72,
   "metadata": {},
   "outputs": [
    {
     "data": {
      "image/png": "[encoded data removed]",
      "text/plain": [
       "<Figure size 432x288 with 1 Axes>"
      ]
     },
     "metadata": {},
     "output_type": "display_data"
    }
   ],
   "source": [
    "import matplotlib.pyplot as plt\n",
    "%matplotlib inline\n",
    "x_ = s_data['经度']\n",
    "y_ = s_data['纬度']\n",
    "plt.plot(x_,y_)\n",
    "plt.show()"
   ]
  },
  {
   "cell_type": "code",
   "execution_count": null,
   "metadata": {},
   "outputs": [],
   "source": []
  }
 ],
 "metadata": {
  "kernelspec": {
   "display_name": "Pytorch-1.0.0",
   "language": "python",
   "name": "pytorch-1.0.0"
  },
  "language_info": {
   "codemirror_mode": {
    "name": "ipython",
    "version": 3
   },
   "file_extension": ".py",
   "mimetype": "text/x-python",
   "name": "python",
   "nbconvert_exporter": "python",
   "pygments_lexer": "ipython3",
   "version": "3.6.4"
  }
 },
 "nbformat": 4,
 "nbformat_minor": 4
}
