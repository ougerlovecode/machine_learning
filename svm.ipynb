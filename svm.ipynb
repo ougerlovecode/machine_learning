{
 "cells": [
  {
   "cell_type": "code",
   "execution_count": 1,
   "metadata": {},
   "outputs": [
    {
     "name": "stdout",
     "output_type": "stream",
     "text": [
      "<class 'sklearn.utils.Bunch'> ['DESCR', 'data', 'feature_names', 'target', 'target_names']\n"
     ]
    },
    {
     "data": {
      "text/plain": [
       "<Figure size 640x480 with 1 Axes>"
      ]
     },
     "metadata": {},
     "output_type": "display_data"
    }
   ],
   "source": [
    "import matplotlib.pyplot as plt\n",
    "from sklearn import datasets\n",
    "# %\n",
    "iris = datasets.load_iris() \n",
    "print(type(iris), dir(iris))\n",
    "\n",
    "X = iris.get('data')\n",
    "y = iris.get('target')\n",
    "\n",
    "X = X[y<2,:2]\n",
    "y = y[y<2]\n",
    "\n",
    "y[y==0] = -1\n",
    "\n",
    "plt.scatter(X[y==-1,0],X[y==-1,1],color='red')\n",
    "plt.scatter(X[y==1,0],X[y==1,1],color='blue')\n",
    "plt.show()"
   ]
  },
  {
   "cell_type": "code",
   "execution_count": 2,
   "metadata": {},
   "outputs": [],
   "source": [
    "from sklearn.preprocessing import StandardScaler\n",
    "\n",
    "standardScaler = StandardScaler()\n",
    "standardScaler.fit(X)\n",
    "X_standerd = standardScaler.transform(X)\n",
    "X =X_standerd\n",
    "from sklearn.model_selection import train_test_split\n",
    "X_train, X_test, y_train, y_test = train_test_split(X, y, test_size=0.2,random_state=1)"
   ]
  },
  {
   "cell_type": "code",
   "execution_count": 3,
   "metadata": {},
   "outputs": [
    {
     "data": {
      "text/plain": [
       "array([False, False, False, False, False, False, False, False, False,\n",
       "       False, False, False, False, False, False, False, False, False,\n",
       "       False, False, False, False, False, False, False, False, False,\n",
       "       False, False, False, False, False, False, False, False, False,\n",
       "       False, False, False, False, False, False, False, False, False,\n",
       "       False, False, False, False, False,  True,  True,  True,  True,\n",
       "        True,  True,  True,  True,  True,  True,  True,  True,  True,\n",
       "        True,  True,  True,  True,  True,  True,  True,  True,  True,\n",
       "        True,  True,  True,  True,  True,  True,  True,  True,  True,\n",
       "        True,  True,  True,  True,  True,  True,  True,  True,  True,\n",
       "        True,  True,  True,  True,  True,  True,  True,  True,  True,\n",
       "        True])"
      ]
     },
     "execution_count": 3,
     "metadata": {},
     "output_type": "execute_result"
    }
   ],
   "source": [
    "y==1"
   ]
  },
  {
   "cell_type": "code",
   "execution_count": 4,
   "metadata": {},
   "outputs": [
    {
     "data": {
      "image/png": "[encoded data removed]",
      "text/plain": [
       "<Figure size 432x288 with 1 Axes>"
      ]
     },
     "metadata": {},
     "output_type": "display_data"
    }
   ],
   "source": [
    "plt.scatter(X_standerd[y==-1,0],X_standerd[y==-1,1],color='red')\n",
    "plt.scatter(X_standerd[y==1,0],X_standerd[y==1,1],color='blue')\n",
    "plt.show()"
   ]
  },
  {
   "cell_type": "code",
   "execution_count": 5,
   "metadata": {},
   "outputs": [],
   "source": [
    "import csv\n",
    "import numpy as np\n",
    "import matplotlib.pyplot as plt\n",
    "import copy\n",
    "from time import sleep\n",
    "import random"
   ]
  },
  {
   "cell_type": "code",
   "execution_count": 6,
   "metadata": {},
   "outputs": [],
   "source": [
    "from math import exp\n",
    "\n",
    "def kernel(data, sigma):\n",
    "    kernelData = []\n",
    "    N = len(data[0]) \n",
    "    print(N)\n",
    "    for x in data:\n",
    "        e_data = []\n",
    "        for n in range(N):\n",
    "            e_data_i = 1\n",
    "            for xi in x:\n",
    "                e_data_i *= f(xi,sigma,n)\n",
    "            e_data.append(e_data_i)\n",
    "        kernelData.append(e_data)\n",
    "    return kernelData"
   ]
  },
  {
   "cell_type": "code",
   "execution_count": 7,
   "metadata": {},
   "outputs": [],
   "source": [
    "def prediction(test, alphas):\n",
    "    x = np.mat(test)\n",
    "#     x = np.concatenate((np.ones((test.shape[0], 1)), test), axis=1)\n",
    "    result = []\n",
    "\n",
    "    for i in x:\n",
    "        if np.dot(i, alphas) > 0:\n",
    "            result.append(1)\n",
    "        else:\n",
    "            result.append(-1)\n",
    "\n",
    "    return result\n",
    "def SVM(X_train, y_train, learning_rate=0.01, max_iter=100):\n",
    "\n",
    "    # 转化为numpy的mat存储\n",
    "    data_x = np.mat(X_train)\n",
    "#     data_x = np.concatenate((np.ones((data_matrix.shape[0], 1)), data_matrix), axis=1)\n",
    "    label_mat = np.mat(y_train).transpose()\n",
    "    m, n = np.shape(data_x)\n",
    "    # 初始化alpha，设为0\n",
    "    w = np.zeros((n, 1))\n",
    "\n",
    "    w_history = [w]\n",
    "\n",
    "\n",
    "    # 初始化迭代次数\n",
    "    iter_num = 1\n",
    "    # 最多迭代max_iter次\n",
    "    while iter_num <= max_iter:\n",
    "#         for i in range(m):## 可以改成随机梯度下降\n",
    "        i = np.random.randint(0,m)\n",
    "        # 计算预测值\n",
    "        y = float(np.dot(data_x[i], w))\n",
    "\n",
    "        if 1-label_mat[i]*y >= 0:\n",
    "            w = (1.0 - 1.0 / iter_num) * w + learning_rate * (label_mat[i] * data_x[i]).T\n",
    "        else:\n",
    "            w = (1.0 - 1.0 / iter_num) * w\n",
    "\n",
    "        w_history.append(w)\n",
    "\n",
    "        iter_num += 1\n",
    "    return w"
   ]
  },
  {
   "cell_type": "code",
   "execution_count": 12,
   "metadata": {},
   "outputs": [
    {
     "data": {
      "image/png": "[encoded data removed]",
      "text/plain": [
       "<Figure size 432x288 with 1 Axes>"
      ]
     },
     "metadata": {},
     "output_type": "display_data"
    }
   ],
   "source": [
    "\n",
    "w = SVM(X_train,y_train)\n",
    "y_pre = np.array(prediction(X_test,w))\n",
    "plt.scatter(np.array(X_test)[y_pre==-1,0],np.array(X_test)[y_pre==-1,1])\n",
    "plt.scatter(np.array(X_test)[y_pre==1,0],np.array(X_test)[y_pre==1,1])\n",
    "\n",
    "# plt.scatter(np.array(X_train)[y_train==-1,0],np.array(X_train)[y_train==-1,1],c = \"red\",marker='+')\n",
    "# plt.scatter(np.array(X_train)[y_train==1,0],np.array(X_train)[y_train==1,1],c = \"blue\",marker='+')\n",
    "\n",
    "# x = np.linspace(-2,3,50)\n",
    "# yy = -w[0,0] *x / w[1,0] \n",
    "# plt.plot(x,yy)\n",
    "plt.show()"
   ]
  },
  {
   "cell_type": "code",
   "execution_count": 9,
   "metadata": {},
   "outputs": [
    {
     "data": {
      "image/png": "[encoded data removed]",
      "text/plain": [
       "<Figure size 432x288 with 1 Axes>"
      ]
     },
     "metadata": {},
     "output_type": "display_data"
    }
   ],
   "source": [
    "plt.scatter(np.array(X_test)[:,0],np.array(X_test)[:,1],c = y_test)\n",
    "plt.show()"
   ]
  },
  {
   "cell_type": "code",
   "execution_count": 13,
   "metadata": {},
   "outputs": [
    {
     "name": "stdout",
     "output_type": "stream",
     "text": [
      "1.0\n"
     ]
    }
   ],
   "source": [
    "from sklearn.metrics import accuracy_score\n",
    "print(accuracy_score(y_pre,y_test))"
   ]
  }
 ],
 "metadata": {
  "kernelspec": {
   "display_name": "Pytorch-1.0.0",
   "language": "python",
   "name": "pytorch-1.0.0"
  },
  "language_info": {
   "codemirror_mode": {
    "name": "ipython",
    "version": 3
   },
   "file_extension": ".py",
   "mimetype": "text/x-python",
   "name": "python",
   "nbconvert_exporter": "python",
   "pygments_lexer": "ipython3",
   "version": "3.6.4"
  }
 },
 "nbformat": 4,
 "nbformat_minor": 4
}
